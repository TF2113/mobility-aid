{
  "cells": [
    {
      "cell_type": "markdown",
      "metadata": {
        "colab_type": "text",
        "id": "view-in-github"
      },
      "source": [
        "<a href=\"https://colab.research.google.com/github/TF2113/mobility-aid/blob/master/ml/train_model.ipynb\" target=\"_parent\"><img src=\"https://colab.research.google.com/assets/colab-badge.svg\" alt=\"Open In Colab\"/></a>"
      ]
    },
    {
      "cell_type": "markdown",
      "metadata": {
        "id": "YGM0IC3mAChM"
      },
      "source": [
        "# Training a Model using YOLO Ultralytics"
      ]
    },
    {
      "cell_type": "markdown",
      "metadata": {
        "id": "cUJuMeMwAMEW"
      },
      "source": [
        "Steps to train a model on an image dataset for use with a Raspberry Pi 5. Using a lightweight version of the YOLO algorithm to efficiently run inference on a low power device."
      ]
    },
    {
      "cell_type": "markdown",
      "metadata": {
        "id": "Tr0aXc3bAq35"
      },
      "source": [
        "## Gain access to a GPU for training purposes."
      ]
    },
    {
      "cell_type": "markdown",
      "metadata": {
        "id": "Y-Sup6L_A7U0"
      },
      "source": [
        "Ensure runtime settings are set to use T4-GPU hardware acceleration and run this code to verify GPU connection."
      ]
    },
    {
      "cell_type": "code",
      "execution_count": null,
      "metadata": {
        "collapsed": true,
        "id": "gFNYAN84yvqU"
      },
      "outputs": [],
      "source": [
        "!nvidia-smi"
      ]
    },
    {
      "cell_type": "markdown",
      "metadata": {
        "id": "iqxD79_XBRbp"
      },
      "source": [
        "## Install Ultralytics"
      ]
    },
    {
      "cell_type": "markdown",
      "metadata": {
        "id": "-Br1Id69BUJr"
      },
      "source": [
        "Run this code to install the Ultralytics library to this runtime session. This will be used to train the model."
      ]
    },
    {
      "cell_type": "code",
      "execution_count": null,
      "metadata": {
        "collapsed": true,
        "id": "mvbzx14r2Q6L"
      },
      "outputs": [],
      "source": [
        "!pip install ultralytics"
      ]
    },
    {
      "cell_type": "markdown",
      "metadata": {
        "id": "EJ81w0hZFunM"
      },
      "source": [
        "## File Handling"
      ]
    },
    {
      "cell_type": "markdown",
      "metadata": {
        "id": "SdpSEWraG_FL"
      },
      "source": [
        "Upload the augmented data.zip file outputted from augmentation.ipynb to the files section on the sidebar."
      ]
    },
    {
      "cell_type": "markdown",
      "metadata": {
        "id": "32cO7lBKFx1P"
      },
      "source": [
        "Run this code on the output of augmentation.ipynb to split the dataset into training and validation sections."
      ]
    },
    {
      "cell_type": "code",
      "execution_count": null,
      "metadata": {
        "collapsed": true,
        "id": "PxSma_05GblF"
      },
      "outputs": [],
      "source": [
        "import os\n",
        "import shutil\n",
        "\n",
        "!unzip -q /content/data.zip -d /content/training_data\n",
        "\n",
        "folder_pairs = [\n",
        "    ('/content/training_data/images', '/content/training_data/val/images'),\n",
        "    ('/content/training_data/labels', '/content/training_data/val/labels'),\n",
        "    ('/content/training_data/aug_images', '/content/training_data/train/images'),\n",
        "    ('/content/training_data/aug_labels', '/content/training_data/train/labels'),\n",
        "]\n",
        "\n",
        "for src_dir, dest_dir in folder_pairs:\n",
        "    os.makedirs(dest_dir, exist_ok=True)\n",
        "    for filename in os.listdir(src_dir):\n",
        "        src_file = os.path.join(src_dir, filename)\n",
        "        dest_file = os.path.join(dest_dir, filename)\n",
        "        if os.path.isfile(src_file):\n",
        "            shutil.move(src_file, dest_file)"
      ]
    },
    {
      "cell_type": "markdown",
      "metadata": {
        "id": "XL0pHN04rw0d"
      },
      "source": [
        "Once the images have been split into training data and validation data, a simple data.yaml file can be used to provide the structure of the data for training the model. Once the yaml file has been uploaded to the root directory, the training can be run with the code below."
      ]
    },
    {
      "cell_type": "code",
      "execution_count": null,
      "metadata": {
        "id": "ggWQo4YlrDgh"
      },
      "outputs": [],
      "source": [
        "!yolo detect train data=/content/data.yaml model=yolo11n.pt epochs=150 imgsz=640"
      ]
    }
  ],
  "metadata": {
    "accelerator": "GPU",
    "colab": {
      "authorship_tag": "ABX9TyMKivaL/kr5lRpeTBAslgMG",
      "gpuType": "T4",
      "include_colab_link": true,
      "provenance": []
    },
    "kernelspec": {
      "display_name": "Python 3",
      "name": "python3"
    },
    "language_info": {
      "name": "python"
    }
  },
  "nbformat": 4,
  "nbformat_minor": 0
}
