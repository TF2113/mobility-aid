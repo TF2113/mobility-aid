{
  "nbformat": 4,
  "nbformat_minor": 0,
  "metadata": {
    "colab": {
      "provenance": [],
      "gpuType": "T4",
      "authorship_tag": "ABX9TyMKivaL/kr5lRpeTBAslgMG",
      "include_colab_link": true
    },
    "kernelspec": {
      "name": "python3",
      "display_name": "Python 3"
    },
    "language_info": {
      "name": "python"
    },
    "accelerator": "GPU"
  },
  "cells": [
    {
      "cell_type": "markdown",
      "metadata": {
        "id": "view-in-github",
        "colab_type": "text"
      },
      "source": [
        "<a href=\"https://colab.research.google.com/github/TF2113/mobility-aid/blob/master/ml/train_model.ipynb\" target=\"_parent\"><img src=\"https://colab.research.google.com/assets/colab-badge.svg\" alt=\"Open In Colab\"/></a>"
      ]
    },
    {
      "cell_type": "markdown",
      "source": [
        "# Training a Model using YOLO Ultralytics"
      ],
      "metadata": {
        "id": "YGM0IC3mAChM"
      }
    },
    {
      "cell_type": "markdown",
      "source": [
        "Steps to train a model on an image dataset for use with a Raspberry Pi 5. Using a lightweight version of the YOLO algorithm to efficiently run inference on a low power device."
      ],
      "metadata": {
        "id": "cUJuMeMwAMEW"
      }
    },
    {
      "cell_type": "markdown",
      "source": [
        "## Gain access to a GPU for training purposes."
      ],
      "metadata": {
        "id": "Tr0aXc3bAq35"
      }
    },
    {
      "cell_type": "markdown",
      "source": [
        "Ensure runtime settings are set to use T4-GPU hardware acceleration and run this code to verify GPU connection."
      ],
      "metadata": {
        "id": "Y-Sup6L_A7U0"
      }
    },
    {
      "cell_type": "code",
      "execution_count": null,
      "metadata": {
        "id": "gFNYAN84yvqU",
        "collapsed": true
      },
      "outputs": [],
      "source": [
        "!nvidia-smi"
      ]
    },
    {
      "cell_type": "markdown",
      "source": [
        "## Install Ultralytics"
      ],
      "metadata": {
        "id": "iqxD79_XBRbp"
      }
    },
    {
      "cell_type": "markdown",
      "source": [
        "Run this code to install the Ultralytics library to this runtime session. This will be used to train the model."
      ],
      "metadata": {
        "id": "-Br1Id69BUJr"
      }
    },
    {
      "cell_type": "code",
      "source": [
        "!pip install ultralytics"
      ],
      "metadata": {
        "id": "mvbzx14r2Q6L",
        "collapsed": true
      },
      "execution_count": null,
      "outputs": []
    },
    {
      "cell_type": "markdown",
      "source": [
        "## File Handling"
      ],
      "metadata": {
        "id": "EJ81w0hZFunM"
      }
    },
    {
      "cell_type": "markdown",
      "source": [
        "Upload the augmented data.zip file outputted from augmentation.ipynb to the files section on the sidebar."
      ],
      "metadata": {
        "id": "SdpSEWraG_FL"
      }
    },
    {
      "cell_type": "markdown",
      "source": [
        "Run this code on the output of augmentation.ipynb to split the dataset into training and validation sections."
      ],
      "metadata": {
        "id": "32cO7lBKFx1P"
      }
    },
    {
      "cell_type": "code",
      "source": [
        "import os\n",
        "import shutil\n",
        "\n",
        "!unzip -q /content/data.zip -d /content/training_data\n",
        "\n",
        "folder_pairs = [\n",
        "    ('/content/training_data/images', '/content/training_data/val/images'),\n",
        "    ('/content/training_data/labels', '/content/training_data/val/labels'),\n",
        "    ('/content/training_data/aug_images', '/content/training_data/train/images'),\n",
        "    ('/content/training_data/aug_labels', '/content/training_data/train/labels'),\n",
        "]\n",
        "\n",
        "for src_dir, dest_dir in folder_pairs:\n",
        "    os.makedirs(dest_dir, exist_ok=True)\n",
        "    for filename in os.listdir(src_dir):\n",
        "        src_file = os.path.join(src_dir, filename)\n",
        "        dest_file = os.path.join(dest_dir, filename)\n",
        "        if os.path.isfile(src_file):\n",
        "            shutil.move(src_file, dest_file)"
      ],
      "metadata": {
        "id": "PxSma_05GblF",
        "collapsed": true
      },
      "execution_count": null,
      "outputs": []
    },
    {
      "cell_type": "markdown",
      "source": [
        "Once the images have been split into training data and validation data, a simple data.yaml file can be used to provide the structure of the data for training the model. Once the yaml file has been uploaded to the root directory, the training can be run with the code below."
      ],
      "metadata": {
        "id": "XL0pHN04rw0d"
      }
    },
    {
      "cell_type": "code",
      "source": [
        "!yolo detect train data=/content/data.yaml model=yolo11n.pt epochs=150 imgsz=640"
      ],
      "metadata": {
        "id": "ggWQo4YlrDgh"
      },
      "execution_count": null,
      "outputs": []
    },
    {
      "cell_type": "markdown",
      "source": [
        "Now the model has been trained, it will be converted to NCNN format for portability and allow running inference with C++ on Raspberry Pi 4 or other low-power Linux based devices."
      ],
      "metadata": {
        "id": "s6F02AMybies"
      }
    },
    {
      "cell_type": "code",
      "source": [
        "from ultralytics import YOLO\n",
        "\n",
        "model = YOLO(\"./runs/detect/train2/weights/best.pt\")\n",
        "\n",
        "model.export(format=\"ncnn\")  # creates '/yolo11n_ncnn_model'\n"
      ],
      "metadata": {
        "id": "FLcr4HqFb55L"
      },
      "execution_count": null,
      "outputs": []
    },
    {
      "cell_type": "markdown",
      "source": [
        "The output \"model.param\" and \"model.bin\" files can be transferred to the project directory for use with inference."
      ],
      "metadata": {
        "id": "z2imK4taOmgk"
      }
    }
  ]
}